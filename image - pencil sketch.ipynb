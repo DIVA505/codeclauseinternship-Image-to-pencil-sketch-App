{
 "cells": [
  {
   "cell_type": "code",
   "execution_count": 1,
   "id": "905016a7",
   "metadata": {},
   "outputs": [
    {
     "name": "stdout",
     "output_type": "stream",
     "text": [
      "Requirement already satisfied: numpy in c:\\users\\lakshmi\\anaconda3\\lib\\site-packages (1.26.1)\n"
     ]
    },
    {
     "name": "stderr",
     "output_type": "stream",
     "text": [
      "WARNING: Ignoring invalid distribution -umpy (c:\\users\\lakshmi\\anaconda3\\lib\\site-packages)\n",
      "WARNING: Ignoring invalid distribution -umpy (c:\\users\\lakshmi\\anaconda3\\lib\\site-packages)\n",
      "WARNING: Ignoring invalid distribution -umpy (c:\\users\\lakshmi\\anaconda3\\lib\\site-packages)\n",
      "WARNING: Ignoring invalid distribution -umpy (c:\\users\\lakshmi\\anaconda3\\lib\\site-packages)\n",
      "WARNING: Ignoring invalid distribution -umpy (c:\\users\\lakshmi\\anaconda3\\lib\\site-packages)\n",
      "WARNING: Ignoring invalid distribution -umpy (c:\\users\\lakshmi\\anaconda3\\lib\\site-packages)\n"
     ]
    }
   ],
   "source": [
    "!pip install numpy"
   ]
  },
  {
   "cell_type": "code",
   "execution_count": 2,
   "id": "567fb710",
   "metadata": {},
   "outputs": [
    {
     "name": "stdout",
     "output_type": "stream",
     "text": [
      "Requirement already satisfied: pillow in c:\\users\\lakshmi\\anaconda3\\lib\\site-packages (9.0.1)\n"
     ]
    },
    {
     "name": "stderr",
     "output_type": "stream",
     "text": [
      "WARNING: Ignoring invalid distribution -umpy (c:\\users\\lakshmi\\anaconda3\\lib\\site-packages)\n",
      "WARNING: Ignoring invalid distribution -umpy (c:\\users\\lakshmi\\anaconda3\\lib\\site-packages)\n",
      "WARNING: Ignoring invalid distribution -umpy (c:\\users\\lakshmi\\anaconda3\\lib\\site-packages)\n",
      "WARNING: Ignoring invalid distribution -umpy (c:\\users\\lakshmi\\anaconda3\\lib\\site-packages)\n",
      "WARNING: Ignoring invalid distribution -umpy (c:\\users\\lakshmi\\anaconda3\\lib\\site-packages)\n",
      "WARNING: Ignoring invalid distribution -umpy (c:\\users\\lakshmi\\anaconda3\\lib\\site-packages)\n"
     ]
    }
   ],
   "source": [
    "!pip install pillow"
   ]
  },
  {
   "cell_type": "code",
   "execution_count": 3,
   "id": "350395d9",
   "metadata": {},
   "outputs": [],
   "source": [
    "import cv2\n",
    "import numpy as np"
   ]
  },
  {
   "cell_type": "code",
   "execution_count": 4,
   "id": "2a3820ca",
   "metadata": {},
   "outputs": [],
   "source": [
    "\n",
    "img = cv2.imread('image.jpeg')\n",
    "\n"
   ]
  },
  {
   "cell_type": "code",
   "execution_count": 5,
   "id": "b6d98d1c",
   "metadata": {},
   "outputs": [
    {
     "data": {
      "text/plain": [
       "array([[[250, 250, 250],\n",
       "        [250, 250, 250],\n",
       "        [250, 250, 250],\n",
       "        ...,\n",
       "        [243, 243, 243],\n",
       "        [243, 243, 243],\n",
       "        [243, 243, 243]],\n",
       "\n",
       "       [[250, 250, 250],\n",
       "        [250, 250, 250],\n",
       "        [250, 250, 250],\n",
       "        ...,\n",
       "        [243, 243, 243],\n",
       "        [243, 243, 243],\n",
       "        [243, 243, 243]],\n",
       "\n",
       "       [[250, 250, 250],\n",
       "        [250, 250, 250],\n",
       "        [250, 250, 250],\n",
       "        ...,\n",
       "        [243, 243, 243],\n",
       "        [243, 243, 243],\n",
       "        [243, 243, 243]],\n",
       "\n",
       "       ...,\n",
       "\n",
       "       [[243, 243, 243],\n",
       "        [243, 243, 243],\n",
       "        [243, 243, 243],\n",
       "        ...,\n",
       "        [249, 249, 249],\n",
       "        [249, 249, 249],\n",
       "        [249, 249, 249]],\n",
       "\n",
       "       [[242, 242, 242],\n",
       "        [242, 242, 242],\n",
       "        [243, 243, 243],\n",
       "        ...,\n",
       "        [249, 249, 249],\n",
       "        [249, 249, 249],\n",
       "        [249, 249, 249]],\n",
       "\n",
       "       [[242, 242, 242],\n",
       "        [242, 242, 242],\n",
       "        [243, 243, 243],\n",
       "        ...,\n",
       "        [249, 249, 249],\n",
       "        [249, 249, 249],\n",
       "        [249, 249, 249]]], dtype=uint8)"
      ]
     },
     "execution_count": 5,
     "metadata": {},
     "output_type": "execute_result"
    }
   ],
   "source": [
    "img"
   ]
  },
  {
   "cell_type": "code",
   "execution_count": 6,
   "id": "251619e5",
   "metadata": {},
   "outputs": [
    {
     "name": "stdout",
     "output_type": "stream",
     "text": [
      "Image Format: JPEG\n",
      "Image Size: (259, 194)\n",
      "Image Mode: L\n"
     ]
    }
   ],
   "source": [
    "from PIL import Image\n",
    "\n",
    "def get_image_info(image_path):\n",
    "    with Image.open(image_path) as img:\n",
    "        image_format = img.format  # Image format (e.g., JPEG, PNG)\n",
    "        image_size = img.size  # Image size (width, height)\n",
    "        image_mode = img.mode  # Image mode (e.g., RGB, L)\n",
    "\n",
    "    return image_format, image_size, image_mode\n",
    "\n",
    "# Path to your image file\n",
    "path_to_image = \"C:\\\\Users\\\\Lakshmi\\\\Untitled Folder 1\\\\image.jpeg\"  # Replace with your image file path\n",
    "image_format, image_size, image_mode = get_image_info(path_to_image)\n",
    "\n",
    "print(f\"Image Format: {image_format}\")\n",
    "print(f\"Image Size: {image_size}\")\n",
    "print(f\"Image Mode: {image_mode}\")\n"
   ]
  },
  {
   "cell_type": "code",
   "execution_count": 7,
   "id": "5136f6fd",
   "metadata": {},
   "outputs": [],
   "source": [
    "gray = cv2.cvtColor(img, cv2.COLOR_BGR2GRAY)\n"
   ]
  },
  {
   "cell_type": "code",
   "execution_count": 8,
   "id": "7d02b39a",
   "metadata": {},
   "outputs": [],
   "source": [
    "invert_gray = 255 - gray\n",
    "# Apply Gaussian blur with a smaller kernel size (e.g., 5x5)\n",
    "blur = cv2.GaussianBlur(invert_gray, (21, 21), 0)\n",
    "\n"
   ]
  },
  {
   "cell_type": "code",
   "execution_count": 9,
   "id": "23692875",
   "metadata": {},
   "outputs": [],
   "source": [
    "pencil_sketch = 255 - blur\n"
   ]
  },
  {
   "cell_type": "code",
   "execution_count": 10,
   "id": "b164202f",
   "metadata": {},
   "outputs": [
    {
     "data": {
      "text/plain": [
       "True"
      ]
     },
     "execution_count": 10,
     "metadata": {},
     "output_type": "execute_result"
    }
   ],
   "source": [
    "cv2.imwrite('image.jpeg', pencil_sketch)\n"
   ]
  },
  {
   "cell_type": "code",
   "execution_count": null,
   "id": "14a2d714",
   "metadata": {},
   "outputs": [],
   "source": [
    "# Display the original image and pencil sketch\n",
    "cv2.imshow(\"Original Image\", img)\n",
    "cv2.imshow(\"Pencil Sketch\", pencil_sketch)\n",
    "cv2.waitKey(0)\n",
    "cv2.destroyAllWindows()"
   ]
  }
 ],
 "metadata": {
  "kernelspec": {
   "display_name": "Python 3 (ipykernel)",
   "language": "python",
   "name": "python3"
  },
  "language_info": {
   "codemirror_mode": {
    "name": "ipython",
    "version": 3
   },
   "file_extension": ".py",
   "mimetype": "text/x-python",
   "name": "python",
   "nbconvert_exporter": "python",
   "pygments_lexer": "ipython3",
   "version": "3.9.12"
  }
 },
 "nbformat": 4,
 "nbformat_minor": 5
}
